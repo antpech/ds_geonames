{
 "cells": [
  {
   "cell_type": "markdown",
   "id": "603ded55",
   "metadata": {},
   "source": [
    "# Проект: Сопоставление гео названий с унифицированными именами geonames"
   ]
  },
  {
   "cell_type": "markdown",
   "id": "e2e5ddca",
   "metadata": {},
   "source": [
    "## Заказчик"
   ]
  },
  {
   "cell_type": "markdown",
   "id": "33a0c746",
   "metadata": {},
   "source": [
    "Карьерный центр"
   ]
  },
  {
   "cell_type": "markdown",
   "id": "04ba2247",
   "metadata": {},
   "source": [
    "## Описание проекта"
   ]
  },
  {
   "cell_type": "markdown",
   "id": "e72cc449",
   "metadata": {},
   "source": [
    "**Цель:**\n",
    "\n",
    "-Сопоставление произвольных гео названий с унифицированными именами geonames для внутреннего использования Карьерным центром"
   ]
  },
  {
   "cell_type": "markdown",
   "id": "dae06ca1",
   "metadata": {},
   "source": [
    "**Используемый стек технологий:**\n",
    "\n",
    "- Класс для использования на backend: Pyhton\n",
    "- База данных: Postgresql\n",
    "- Модели: \n",
    "    - Count Vectorizer и \n",
    "    - Предъобученная модель Sbert - Labse (https://sbert.net/docs/pretrained_models.html)\n",
    "    - Предъобученная модель Sbert - Labse-geonames (https://huggingface.co/dima-does-code/LaBSE-geonames-15K-MBML-5e-v1)\n",
    "    - Поиск по косинусному сравнению"
   ]
  },
  {
   "cell_type": "markdown",
   "id": "068a9cfa",
   "metadata": {},
   "source": [
    "**Может потребоваться для запуска**\n",
    "\n",
    "- pip install translate\n",
    "- pip install SQLAlchemy\n",
    "- pip install -U sentence-transformers"
   ]
  },
  {
   "cell_type": "markdown",
   "id": "f85de052",
   "metadata": {},
   "source": [
    "**Данные geonames:**\n",
    "\n",
    "В проекте были использованы файлы:\n",
    "- allCountries.txt - файл таблицы geoname. Содержит все данные сервиса geoname\n",
    "- alternateNamesV2.txt - файл с альтернативными названиям для гео объектов\n",
    "- admin1CodesASCII.txt - файл с кодами регионального деления\n",
    "- countryInfo.txt - файл с информацией по странам\n",
    "\n",
    "В проекте были использованы следующие фильтры:\n",
    "- страны: ['RU', 'AM', 'AZ', 'BY', 'GE', 'KG', 'KZ', 'MD', 'TJ', 'UA', 'UZ']\n",
    "- языки: ['ru', 'az', 'en', 'tr', 'uz', 'abbr', 'iata', 'icao', 'faac']\n",
    "- класс объектов: ['P'] - населенные пункты\n",
    "- кол-во населения: от 5000 чел."
   ]
  },
  {
   "cell_type": "markdown",
   "id": "7933bac4",
   "metadata": {},
   "source": [
    "## Инициализация класса"
   ]
  },
  {
   "cell_type": "code",
   "execution_count": null,
   "id": "5fd25b04",
   "metadata": {},
   "outputs": [],
   "source": [
    "from citysearch import citysearch\n",
    "\n",
    "path = 'C:/Users/sexypc/ds'\n",
    "\n",
    "DATABASE = {\n",
    "    'drivername': 'postgresql',\n",
    "    'username': 'postgres',\n",
    "    'password': '**********',\n",
    "    'host': 'localhost',\n",
    "    'port': 5432,\n",
    "    'database': 'geonames',\n",
    "    'query': {}\n",
    "}\n",
    "\n",
    "citysearch = citysearch(path, DATABASE)"
   ]
  },
  {
   "cell_type": "markdown",
   "id": "a3e33233",
   "metadata": {},
   "source": [
    "## Инициализация базы данных"
   ]
  },
  {
   "cell_type": "markdown",
   "id": "807badd3",
   "metadata": {},
   "source": [
    "Создается чистая структура и закачиваются данные по отфильтрованным данным"
   ]
  },
  {
   "cell_type": "code",
   "execution_count": null,
   "id": "33cec339",
   "metadata": {
    "scrolled": true
   },
   "outputs": [],
   "source": [
    "citysearch.db_load_data(path, DATABASE)"
   ]
  },
  {
   "cell_type": "markdown",
   "id": "15906574",
   "metadata": {},
   "source": [
    "## CountVectrizer + Cosinesimlarty"
   ]
  },
  {
   "cell_type": "markdown",
   "id": "c8308c33",
   "metadata": {},
   "source": [
    "Векторы хранятся и извлекаются из базы данных. Для Count Vectorizer этот вариант приемлемый т.к. векторы имеют относительно маленький размер."
   ]
  },
  {
   "cell_type": "markdown",
   "id": "6b693024",
   "metadata": {},
   "source": [
    "### Расчет embeddings"
   ]
  },
  {
   "cell_type": "markdown",
   "id": "54531352",
   "metadata": {},
   "source": [
    "Функция calc_count_vectorizer рассчитывает Embeddings для всех значений names и alternames из данных geonames. Далее сохраняет полученные векторы в таблицу `CountVectorizer` в базе данных."
   ]
  },
  {
   "cell_type": "code",
   "execution_count": null,
   "id": "40d28ef5",
   "metadata": {},
   "outputs": [],
   "source": [
    "%%time\n",
    "\n",
    "citysearch.calc_count_vectorizer()"
   ]
  },
  {
   "cell_type": "markdown",
   "id": "56b21981",
   "metadata": {},
   "source": [
    "### Поиск города"
   ]
  },
  {
   "cell_type": "markdown",
   "id": "bd1b9751",
   "metadata": {},
   "source": [
    "Извлекаются Embeddings из базы данных и происходит поиск."
   ]
  },
  {
   "cell_type": "code",
   "execution_count": 40,
   "id": "16721cc4",
   "metadata": {},
   "outputs": [
    {
     "name": "stdout",
     "output_type": "stream",
     "text": [
      "CPU times: total: 688 ms\n",
      "Wall time: 2.09 s\n"
     ]
    },
    {
     "data": {
      "text/plain": [
       "[{'geoname_id': 470676,\n",
       "  'name': 'Vyaz’ma',\n",
       "  'country': 'Russia',\n",
       "  'region': 'Smolensk Oblast',\n",
       "  'population': 55500,\n",
       "  'cosine_similarity': 1.0},\n",
       " {'geoname_id': 702320,\n",
       "  'name': 'Makiivka',\n",
       "  'country': 'Ukraine',\n",
       "  'region': 'Donetsk',\n",
       "  'population': 338968,\n",
       "  'cosine_similarity': 0.943}]"
      ]
     },
     "execution_count": 40,
     "metadata": {},
     "output_type": "execute_result"
    }
   ],
   "source": [
    "%%time\n",
    "\n",
    "search = 'Maskva'\n",
    "citysearch.get_CV_similarity(search, translate=True)"
   ]
  },
  {
   "cell_type": "code",
   "execution_count": 42,
   "id": "46eb30ed",
   "metadata": {},
   "outputs": [
    {
     "name": "stdout",
     "output_type": "stream",
     "text": [
      "CPU times: total: 672 ms\n",
      "Wall time: 1.93 s\n"
     ]
    },
    {
     "data": {
      "text/plain": [
       "[{'geoname_id': 524901,\n",
       "  'name': 'Moscow',\n",
       "  'country': 'Russia',\n",
       "  'region': 'Moscow',\n",
       "  'population': 10381222,\n",
       "  'cosine_similarity': 1.0},\n",
       " {'geoname_id': 1498389,\n",
       "  'name': 'Moshkovo',\n",
       "  'country': 'Russia',\n",
       "  'region': 'Novosibirsk Oblast',\n",
       "  'population': 10541,\n",
       "  'cosine_similarity': 0.912},\n",
       " {'geoname_id': 610612,\n",
       "  'name': 'Shevchenko',\n",
       "  'country': 'Kazakhstan',\n",
       "  'region': 'Mangghystaū',\n",
       "  'population': 147443,\n",
       "  'cosine_similarity': 0.873},\n",
       " {'geoname_id': 1504769,\n",
       "  'name': 'Kamyshlov',\n",
       "  'country': 'Russia',\n",
       "  'region': 'Sverdlovsk Oblast',\n",
       "  'population': 28006,\n",
       "  'cosine_similarity': 0.857}]"
      ]
     },
     "execution_count": 42,
     "metadata": {},
     "output_type": "execute_result"
    }
   ],
   "source": [
    "%%time\n",
    "\n",
    "search = 'Моссква'\n",
    "citysearch.get_CV_similarity(search, translate=True)"
   ]
  },
  {
   "cell_type": "code",
   "execution_count": 31,
   "id": "6d394506",
   "metadata": {},
   "outputs": [
    {
     "name": "stdout",
     "output_type": "stream",
     "text": [
      "CPU times: total: 375 ms\n",
      "Wall time: 1.89 s\n"
     ]
    },
    {
     "data": {
      "text/plain": [
       "[{'geoname_id': 498817,\n",
       "  'name': 'Saint Petersburg',\n",
       "  'country': 'Russia',\n",
       "  'region': 'St.-Petersburg',\n",
       "  'population': 5351935,\n",
       "  'cosine_similarity': 1.0}]"
      ]
     },
     "execution_count": 31,
     "metadata": {},
     "output_type": "execute_result"
    }
   ],
   "source": [
    "%%time\n",
    "\n",
    "search = 'Санкт-петербург'\n",
    "citysearch.get_CV_similarity(search, translate=True)"
   ]
  },
  {
   "cell_type": "code",
   "execution_count": 33,
   "id": "e6b834d8",
   "metadata": {},
   "outputs": [
    {
     "name": "stdout",
     "output_type": "stream",
     "text": [
      "CPU times: total: 500 ms\n",
      "Wall time: 1.63 s\n"
     ]
    },
    {
     "data": {
      "text/plain": [
       "[{'geoname_id': 2013348,\n",
       "  'name': 'Vladivostok',\n",
       "  'country': 'Russia',\n",
       "  'region': 'Primorye',\n",
       "  'population': 604901,\n",
       "  'cosine_similarity': 1.0},\n",
       " {'geoname_id': 694423,\n",
       "  'name': 'Sevastopol',\n",
       "  'country': 'Ukraine',\n",
       "  'region': 'Sevastopol City',\n",
       "  'population': 547820,\n",
       "  'cosine_similarity': 0.93},\n",
       " {'geoname_id': 692087,\n",
       "  'name': 'Svitlovodsk',\n",
       "  'country': 'Ukraine',\n",
       "  'region': 'Kirovohrad',\n",
       "  'population': 43130,\n",
       "  'cosine_similarity': 0.926},\n",
       " {'geoname_id': 512023,\n",
       "  'name': 'Pavlovskiy Posad',\n",
       "  'country': 'Russia',\n",
       "  'region': 'Moscow Oblast',\n",
       "  'population': 60051,\n",
       "  'cosine_similarity': 0.897}]"
      ]
     },
     "execution_count": 33,
     "metadata": {},
     "output_type": "execute_result"
    }
   ],
   "source": [
    "%%time\n",
    "\n",
    "search = 'Vlodivastok'\n",
    "citysearch.get_CV_similarity(search, translate=True)"
   ]
  },
  {
   "cell_type": "code",
   "execution_count": 44,
   "id": "a944d190",
   "metadata": {},
   "outputs": [
    {
     "name": "stdout",
     "output_type": "stream",
     "text": [
      "CPU times: total: 734 ms\n",
      "Wall time: 2.25 s\n"
     ]
    },
    {
     "data": {
      "text/plain": [
       "[{'geoname_id': 548408,\n",
       "  'name': 'Kirov',\n",
       "  'country': 'Russia',\n",
       "  'region': 'Kirov Oblast',\n",
       "  'population': 507155,\n",
       "  'cosine_similarity': 1.0},\n",
       " {'geoname_id': 548410,\n",
       "  'name': 'Kirov',\n",
       "  'country': 'Russia',\n",
       "  'region': 'Kaluga Oblast',\n",
       "  'population': 39319,\n",
       "  'cosine_similarity': 1.0},\n",
       " {'geoname_id': 548391,\n",
       "  'name': 'Kirovsk',\n",
       "  'country': 'Russia',\n",
       "  'region': 'Murmansk',\n",
       "  'population': 29605,\n",
       "  'cosine_similarity': 1.0},\n",
       " {'geoname_id': 705809,\n",
       "  'name': 'Holubivka',\n",
       "  'country': 'Ukraine',\n",
       "  'region': 'Luhansk',\n",
       "  'population': 26654,\n",
       "  'cosine_similarity': 1.0}]"
      ]
     },
     "execution_count": 44,
     "metadata": {},
     "output_type": "execute_result"
    }
   ],
   "source": [
    "%%time\n",
    "\n",
    "search = 'Kirov'\n",
    "citysearch.get_CV_similarity(search, translate=True)"
   ]
  },
  {
   "cell_type": "markdown",
   "id": "4077c5ac",
   "metadata": {},
   "source": [
    "**Вывод** \n",
    "\n",
    "Поиск по ngram будет работать с относительно схожими словами. Может справляться с опечатками. Требуется перевод слова на английский язык. Была использована библиотека для перевода translate. Если библиотека не может перевести, она транслитирирует в латинский алфавит."
   ]
  },
  {
   "cell_type": "markdown",
   "id": "9ac0d067",
   "metadata": {},
   "source": [
    "## Cosine similarity SBERT distiluse-base-multilingual-cased-v2"
   ]
  },
  {
   "cell_type": "markdown",
   "id": "0ccdce49",
   "metadata": {},
   "source": [
    "Данные методы работают аналогичным образом"
   ]
  },
  {
   "cell_type": "markdown",
   "id": "8079d39e",
   "metadata": {},
   "source": [
    "### Расчет embeddings"
   ]
  },
  {
   "cell_type": "code",
   "execution_count": null,
   "id": "b1728c93",
   "metadata": {},
   "outputs": [],
   "source": [
    "%%time\n",
    "\n",
    "citysearch.calc_sbertv2()"
   ]
  },
  {
   "cell_type": "markdown",
   "id": "5d5173bd",
   "metadata": {},
   "source": [
    "### Поиск города"
   ]
  },
  {
   "cell_type": "code",
   "execution_count": null,
   "id": "a42588be",
   "metadata": {},
   "outputs": [],
   "source": [
    "%%time\n",
    "\n",
    "string = 'RUMOW'\n",
    "citysearch.get_sbertv2_similarity(string)"
   ]
  },
  {
   "cell_type": "markdown",
   "id": "477baf44",
   "metadata": {},
   "source": [
    "**Вывод**\n",
    "\n",
    "Хранить в базе эмбединги плохая идея. Очень долгое чтение из базы данных. Необходимо сохранять после первого запроса в переменную класса."
   ]
  },
  {
   "cell_type": "markdown",
   "id": "0f3e70c3",
   "metadata": {},
   "source": [
    "**Рекомендации**\n",
    "\n",
    "Не использовать"
   ]
  },
  {
   "cell_type": "markdown",
   "id": "0d95eb9e",
   "metadata": {},
   "source": [
    "## Cosine similarity SBERT dima-does-code/LaBSE-geonames-15K-MBML-5e-v1"
   ]
  },
  {
   "cell_type": "markdown",
   "id": "1a79546b",
   "metadata": {},
   "source": [
    "Аналогичные проблемы со скоростью чтения embeddings из базы данных"
   ]
  },
  {
   "cell_type": "markdown",
   "id": "de86db67",
   "metadata": {},
   "source": [
    "### Расчет embeddings"
   ]
  },
  {
   "cell_type": "code",
   "execution_count": null,
   "id": "00131398",
   "metadata": {},
   "outputs": [],
   "source": [
    "%%time\n",
    "\n",
    "citysearch.calc_sbert_Labse()"
   ]
  },
  {
   "cell_type": "markdown",
   "id": "5b86833e",
   "metadata": {},
   "source": [
    "### Поиск города"
   ]
  },
  {
   "cell_type": "code",
   "execution_count": null,
   "id": "a9bcf215",
   "metadata": {},
   "outputs": [],
   "source": [
    "%%time\n",
    "\n",
    "string = 'RUMOW'\n",
    "citysearch.get_sbert_Labse_similarity(string)"
   ]
  },
  {
   "cell_type": "markdown",
   "id": "f4b01e8c",
   "metadata": {},
   "source": [
    "**Рекомендации**\n",
    "\n",
    "Не использовать"
   ]
  },
  {
   "cell_type": "markdown",
   "id": "515ca8f8",
   "metadata": {},
   "source": [
    "## Cosine similarity SBERT dima-does-code/LaBSE-geonames-15K-MBML-5e-v1\n",
    "## Версия 2"
   ]
  },
  {
   "cell_type": "markdown",
   "id": "fada23e2",
   "metadata": {},
   "source": [
    "За основу была взята модель SBERT LaBSE и дообучена на парах данных: альтернативное название - название. Модель обучалась на 5 эпохах. Данна модель мультиязычная. Поддерживает ввод и поиск названий городов независимо от языка. "
   ]
  },
  {
   "cell_type": "markdown",
   "id": "b2183e84",
   "metadata": {},
   "source": [
    "### Расчет embeddings"
   ]
  },
  {
   "cell_type": "code",
   "execution_count": null,
   "id": "40735d36",
   "metadata": {},
   "outputs": [],
   "source": [
    "%%time\n",
    "\n",
    "citysearch.calc_sbert_Labse2()"
   ]
  },
  {
   "cell_type": "markdown",
   "id": "908166eb",
   "metadata": {},
   "source": [
    "### Поиск города"
   ]
  },
  {
   "cell_type": "code",
   "execution_count": 45,
   "id": "b3d30e9a",
   "metadata": {},
   "outputs": [
    {
     "name": "stdout",
     "output_type": "stream",
     "text": [
      "CPU times: total: 172 ms\n",
      "Wall time: 235 ms\n"
     ]
    },
    {
     "data": {
      "text/plain": [
       "[{'geoname_id': 524901,\n",
       "  'name': 'Moscow',\n",
       "  'country': 'Russia',\n",
       "  'region': 'Moscow',\n",
       "  'population': 10381222,\n",
       "  'similarity': 0.9391975402832031},\n",
       " {'geoname_id': 1498389,\n",
       "  'name': 'Moshkovo',\n",
       "  'country': 'Russia',\n",
       "  'region': 'Novosibirsk Oblast',\n",
       "  'population': 10541,\n",
       "  'similarity': 0.7764918208122253}]"
      ]
     },
     "execution_count": 45,
     "metadata": {},
     "output_type": "execute_result"
    }
   ],
   "source": [
    "%%time\n",
    "\n",
    "string = 'Масква'\n",
    "citysearch.get_sbert_Labse_similarity2(string)"
   ]
  },
  {
   "cell_type": "code",
   "execution_count": 46,
   "id": "277b3ef5",
   "metadata": {},
   "outputs": [
    {
     "name": "stdout",
     "output_type": "stream",
     "text": [
      "CPU times: total: 188 ms\n",
      "Wall time: 87.1 ms\n"
     ]
    },
    {
     "data": {
      "text/plain": [
       "[{'geoname_id': 524901,\n",
       "  'name': 'Moscow',\n",
       "  'country': 'Russia',\n",
       "  'region': 'Moscow',\n",
       "  'population': 10381222,\n",
       "  'similarity': 0.9065966010093689},\n",
       " {'geoname_id': 1498389,\n",
       "  'name': 'Moshkovo',\n",
       "  'country': 'Russia',\n",
       "  'region': 'Novosibirsk Oblast',\n",
       "  'population': 10541,\n",
       "  'similarity': 0.8068616390228271}]"
      ]
     },
     "execution_count": 46,
     "metadata": {},
     "output_type": "execute_result"
    }
   ],
   "source": [
    "%%time\n",
    "\n",
    "string = 'Моссква'\n",
    "citysearch.get_sbert_Labse_similarity2(string)"
   ]
  },
  {
   "cell_type": "code",
   "execution_count": 47,
   "id": "cd0e73ea",
   "metadata": {},
   "outputs": [
    {
     "name": "stdout",
     "output_type": "stream",
     "text": [
      "CPU times: total: 172 ms\n",
      "Wall time: 91.3 ms\n"
     ]
    },
    {
     "data": {
      "text/plain": [
       "[{'geoname_id': 498817,\n",
       "  'name': 'Saint Petersburg',\n",
       "  'country': 'Russia',\n",
       "  'region': 'St.-Petersburg',\n",
       "  'population': 5351935,\n",
       "  'similarity': 0.9999999403953552}]"
      ]
     },
     "execution_count": 47,
     "metadata": {},
     "output_type": "execute_result"
    }
   ],
   "source": [
    "%%time\n",
    "\n",
    "string = 'СПб'\n",
    "citysearch.get_sbert_Labse_similarity2(string)"
   ]
  },
  {
   "cell_type": "code",
   "execution_count": 48,
   "id": "555b243f",
   "metadata": {},
   "outputs": [
    {
     "name": "stdout",
     "output_type": "stream",
     "text": [
      "CPU times: total: 219 ms\n",
      "Wall time: 102 ms\n"
     ]
    },
    {
     "data": {
      "text/plain": [
       "[{'geoname_id': 1498129,\n",
       "  'name': 'Myski',\n",
       "  'country': 'Russia',\n",
       "  'region': 'Kuzbass',\n",
       "  'population': 44082,\n",
       "  'similarity': 0.8076306581497192},\n",
       " {'geoname_id': 524901,\n",
       "  'name': 'Moscow',\n",
       "  'country': 'Russia',\n",
       "  'region': 'Moscow',\n",
       "  'population': 10381222,\n",
       "  'similarity': 0.7616719603538513}]"
      ]
     },
     "execution_count": 48,
     "metadata": {},
     "output_type": "execute_result"
    }
   ],
   "source": [
    "%%time\n",
    "\n",
    "string = 'Мск'\n",
    "citysearch.get_sbert_Labse_similarity2(string)"
   ]
  },
  {
   "cell_type": "code",
   "execution_count": 49,
   "id": "c11fad57",
   "metadata": {},
   "outputs": [
    {
     "name": "stdout",
     "output_type": "stream",
     "text": [
      "CPU times: total: 203 ms\n",
      "Wall time: 98.3 ms\n"
     ]
    },
    {
     "data": {
      "text/plain": [
       "[{'geoname_id': 625144,\n",
       "  'name': 'Minsk',\n",
       "  'country': 'Belarus',\n",
       "  'region': 'Minsk City',\n",
       "  'population': 1742124,\n",
       "  'similarity': 0.7677884697914124},\n",
       " {'geoname_id': 532096,\n",
       "  'name': 'Makhachkala',\n",
       "  'country': 'Russia',\n",
       "  'region': 'Dagestan',\n",
       "  'population': 596356,\n",
       "  'similarity': 0.7533031105995178}]"
      ]
     },
     "execution_count": 49,
     "metadata": {},
     "output_type": "execute_result"
    }
   ],
   "source": [
    "%%time\n",
    "\n",
    "string = 'МСК'\n",
    "citysearch.get_sbert_Labse_similarity2(string)"
   ]
  },
  {
   "cell_type": "code",
   "execution_count": 52,
   "id": "5a24c577",
   "metadata": {},
   "outputs": [
    {
     "name": "stdout",
     "output_type": "stream",
     "text": [
      "CPU times: total: 188 ms\n",
      "Wall time: 89.6 ms\n"
     ]
    },
    {
     "data": {
      "text/plain": [
       "[{'geoname_id': 1496747,\n",
       "  'name': 'Novosibirsk',\n",
       "  'country': 'Russia',\n",
       "  'region': 'Novosibirsk Oblast',\n",
       "  'population': 1612833,\n",
       "  'similarity': 0.7570608854293823}]"
      ]
     },
     "execution_count": 52,
     "metadata": {},
     "output_type": "execute_result"
    }
   ],
   "source": [
    "%%time\n",
    "\n",
    "string = 'Навосибирсг'\n",
    "citysearch.get_sbert_Labse_similarity2(string)"
   ]
  },
  {
   "cell_type": "code",
   "execution_count": 53,
   "id": "d6b5c1a7",
   "metadata": {},
   "outputs": [
    {
     "name": "stdout",
     "output_type": "stream",
     "text": [
      "CPU times: total: 203 ms\n",
      "Wall time: 84.7 ms\n"
     ]
    },
    {
     "data": {
      "text/plain": [
       "[{'geoname_id': 2013348,\n",
       "  'name': 'Vladivostok',\n",
       "  'country': 'Russia',\n",
       "  'region': 'Primorye',\n",
       "  'population': 604901,\n",
       "  'similarity': 0.8974615931510925},\n",
       " {'geoname_id': 473249,\n",
       "  'name': 'Vladikavkaz',\n",
       "  'country': 'Russia',\n",
       "  'region': 'North Ossetia–Alania',\n",
       "  'population': 306258,\n",
       "  'similarity': 0.7779488563537598}]"
      ]
     },
     "execution_count": 53,
     "metadata": {},
     "output_type": "execute_result"
    }
   ],
   "source": [
    "%%time\n",
    "\n",
    "string = 'Влодивасток'\n",
    "citysearch.get_sbert_Labse_similarity2(string)"
   ]
  },
  {
   "cell_type": "code",
   "execution_count": 55,
   "id": "ce2d4aad",
   "metadata": {},
   "outputs": [
    {
     "name": "stdout",
     "output_type": "stream",
     "text": [
      "CPU times: total: 203 ms\n",
      "Wall time: 86.5 ms\n"
     ]
    },
    {
     "data": {
      "text/plain": [
       "[{'geoname_id': 524901,\n",
       "  'name': 'Moscow',\n",
       "  'country': 'Russia',\n",
       "  'region': 'Moscow',\n",
       "  'population': 10381222,\n",
       "  'similarity': 0.9999999403953552},\n",
       " {'geoname_id': 1498389,\n",
       "  'name': 'Moshkovo',\n",
       "  'country': 'Russia',\n",
       "  'region': 'Novosibirsk Oblast',\n",
       "  'population': 10541,\n",
       "  'similarity': 0.7683038711547852}]"
      ]
     },
     "execution_count": 55,
     "metadata": {},
     "output_type": "execute_result"
    }
   ],
   "source": [
    "%%time\n",
    "\n",
    "string = 'Moskau'\n",
    "citysearch.get_sbert_Labse_similarity2(string)"
   ]
  },
  {
   "cell_type": "code",
   "execution_count": 58,
   "id": "fde25a5c",
   "metadata": {},
   "outputs": [
    {
     "name": "stdout",
     "output_type": "stream",
     "text": [
      "CPU times: total: 266 ms\n",
      "Wall time: 95.5 ms\n"
     ]
    },
    {
     "data": {
      "text/plain": [
       "[{'geoname_id': 613607,\n",
       "  'name': 'Kutaisi',\n",
       "  'country': 'Georgia',\n",
       "  'region': 'Imereti',\n",
       "  'population': 135201,\n",
       "  'similarity': 0.8971949815750122}]"
      ]
     },
     "execution_count": 58,
     "metadata": {},
     "output_type": "execute_result"
    }
   ],
   "source": [
    "%%time\n",
    "\n",
    "string = 'ქუთაისი'\n",
    "citysearch.get_sbert_Labse_similarity2(string)"
   ]
  },
  {
   "cell_type": "code",
   "execution_count": 59,
   "id": "2a58b3d4",
   "metadata": {},
   "outputs": [
    {
     "name": "stdout",
     "output_type": "stream",
     "text": [
      "CPU times: total: 156 ms\n",
      "Wall time: 86.5 ms\n"
     ]
    },
    {
     "data": {
      "text/plain": [
       "[{'geoname_id': 585763,\n",
       "  'name': 'Kyurdarmir',\n",
       "  'country': 'Azerbaijan',\n",
       "  'region': 'Kürdǝmir',\n",
       "  'population': 19088,\n",
       "  'similarity': 1.0000003576278687}]"
      ]
     },
     "execution_count": 59,
     "metadata": {},
     "output_type": "execute_result"
    }
   ],
   "source": [
    "%%time\n",
    "\n",
    "string = 'Kürdəmir'\n",
    "citysearch.get_sbert_Labse_similarity2(string)"
   ]
  },
  {
   "cell_type": "code",
   "execution_count": 60,
   "id": "c0b529b3",
   "metadata": {},
   "outputs": [
    {
     "name": "stdout",
     "output_type": "stream",
     "text": [
      "CPU times: total: 141 ms\n",
      "Wall time: 88.7 ms\n"
     ]
    },
    {
     "data": {
      "text/plain": [
       "[{'geoname_id': 1513983,\n",
       "  'name': 'G’ijduvon Shahri',\n",
       "  'country': 'Uzbekistan',\n",
       "  'region': 'Bukhara',\n",
       "  'population': 41070,\n",
       "  'similarity': 0.9649820923805237}]"
      ]
     },
     "execution_count": 60,
     "metadata": {},
     "output_type": "execute_result"
    }
   ],
   "source": [
    "%%time\n",
    "\n",
    "string = 'G‘ijduvon'\n",
    "citysearch.get_sbert_Labse_similarity2(string)"
   ]
  },
  {
   "cell_type": "code",
   "execution_count": 63,
   "id": "96d1a34d",
   "metadata": {},
   "outputs": [
    {
     "name": "stdout",
     "output_type": "stream",
     "text": [
      "CPU times: total: 172 ms\n",
      "Wall time: 87 ms\n"
     ]
    },
    {
     "data": {
      "text/plain": [
       "[{'geoname_id': 541549,\n",
       "  'name': 'Krasnyy Oktyabr’',\n",
       "  'country': 'Russia',\n",
       "  'region': 'Vladimir Oblast',\n",
       "  'population': 9999,\n",
       "  'similarity': 0.9913536310195923},\n",
       " {'geoname_id': 608679,\n",
       "  'name': 'Kandyagash',\n",
       "  'country': 'Kazakhstan',\n",
       "  'region': 'Aqtöbe',\n",
       "  'population': 28196,\n",
       "  'similarity': 0.9031741619110107},\n",
       " {'geoname_id': 515879,\n",
       "  'name': 'Oktyabrsky',\n",
       "  'country': 'Russia',\n",
       "  'region': 'Bashkortostan Republic',\n",
       "  'population': 108200,\n",
       "  'similarity': 0.8739874362945557},\n",
       " {'geoname_id': 515873,\n",
       "  'name': 'Oktyabr’skiy',\n",
       "  'country': 'Russia',\n",
       "  'region': 'Moscow Oblast',\n",
       "  'population': 11000,\n",
       "  'similarity': 0.8739874362945557},\n",
       " {'geoname_id': 515921,\n",
       "  'name': 'Takhtamukay',\n",
       "  'country': 'Russia',\n",
       "  'region': 'Adygeya Republic',\n",
       "  'population': 5120,\n",
       "  'similarity': 0.8739874362945557}]"
      ]
     },
     "execution_count": 63,
     "metadata": {},
     "output_type": "execute_result"
    }
   ],
   "source": [
    "%%time\n",
    "\n",
    "string = 'Krasnyy Oktyabr'\n",
    "citysearch.get_sbert_Labse_similarity2(string)"
   ]
  },
  {
   "cell_type": "code",
   "execution_count": 68,
   "id": "ce319d7a",
   "metadata": {},
   "outputs": [
    {
     "name": "stdout",
     "output_type": "stream",
     "text": [
      "CPU times: total: 203 ms\n",
      "Wall time: 73.1 ms\n"
     ]
    },
    {
     "data": {
      "text/plain": [
       "[{'geoname_id': 609655,\n",
       "  'name': 'Karagandy',\n",
       "  'country': 'Kazakhstan',\n",
       "  'region': 'Karaganda',\n",
       "  'population': 497777,\n",
       "  'similarity': 0.8726395964622498},\n",
       " {'geoname_id': 2013894,\n",
       "  'name': 'Ust’-Ordynskiy',\n",
       "  'country': 'Russia',\n",
       "  'region': 'Irkutsk Oblast',\n",
       "  'population': 14538,\n",
       "  'similarity': 0.7625464200973511}]"
      ]
     },
     "execution_count": 68,
     "metadata": {},
     "output_type": "execute_result"
    }
   ],
   "source": [
    "%%time\n",
    "\n",
    "string = 'Қарағанды'\n",
    "citysearch.get_sbert_Labse_similarity2(string)"
   ]
  },
  {
   "cell_type": "markdown",
   "id": "a3b8515b",
   "metadata": {},
   "source": [
    "**Todo** \n",
    "\n",
    "Данная модель сохраняет эмбеддинги в файл с помощью pickle. \n",
    "\n",
    "Первый поиск названия долгий. Необходимо оптимизировать сохранение эмбеддингов в файл. (Добиться, чтобы хранились в правильном виде, без необходимости трансформации типов после чтения их из файла.)"
   ]
  },
  {
   "cell_type": "markdown",
   "id": "a6d4ea5b",
   "metadata": {},
   "source": [
    "### Тест"
   ]
  },
  {
   "cell_type": "code",
   "execution_count": null,
   "id": "23291666",
   "metadata": {},
   "outputs": [],
   "source": []
  },
  {
   "cell_type": "markdown",
   "id": "8139fc85",
   "metadata": {},
   "source": [
    "# TODO"
   ]
  },
  {
   "cell_type": "markdown",
   "id": "64b62b59",
   "metadata": {},
   "source": [
    "    [] Добавить передачу фильтров в виде словаря\n",
    "    [] Добавить проверки передаваемых параметров\n",
    "    [x] Оформить проект на Github\n",
    "    [] Провести тесты на тестовых данных\n",
    "    [] Посмотреть пропущенные вебинары\n",
    "    [] Обучить свою собственную модель на основе sbert\n",
    "    [] Оформить страницу на HuggingFace\n",
    "    [] Сделать рефакторинг класса и оформить в модуль\n",
    "    [] Дополню как вспомню"
   ]
  }
 ],
 "metadata": {
  "kernelspec": {
   "display_name": "Python 3 (ipykernel)",
   "language": "python",
   "name": "python3"
  },
  "language_info": {
   "codemirror_mode": {
    "name": "ipython",
    "version": 3
   },
   "file_extension": ".py",
   "mimetype": "text/x-python",
   "name": "python",
   "nbconvert_exporter": "python",
   "pygments_lexer": "ipython3",
   "version": "3.11.5"
  }
 },
 "nbformat": 4,
 "nbformat_minor": 5
}
